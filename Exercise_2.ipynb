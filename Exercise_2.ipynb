{
  "cells": [
    {
      "cell_type": "markdown",
      "metadata": {
        "id": "QNWAYtOH8JJM"
      },
      "source": [
        "# Exercise 2"
      ]
    },
    {
      "cell_type": "markdown",
      "metadata": {
        "id": "WqS_i0U78JJQ"
      },
      "source": [
        "#### Pre-defined stack functions"
      ]
    },
    {
      "cell_type": "code",
      "execution_count": null,
      "metadata": {
        "id": "Q55AdD2y8JJR"
      },
      "outputs": [],
      "source": [
        "# Creating a stack\n",
        "def create_stack():\n",
        "    stack = []\n",
        "    return stack\n",
        "\n",
        "def print_stack(stack):\n",
        "\n",
        "    if (check_empty(stack)):\n",
        "            return \"stack is empty\"\n",
        "\n",
        "    # Create a copy of the stack and reverse the elements\n",
        "    tempStack = stack.copy()\n",
        "    tempStack.reverse()\n",
        "\n",
        "    # Print all elements using a loop\n",
        "    for i in tempStack:\n",
        "        print(i)\n",
        "\n",
        "    # Delete the copy to free up memory\n",
        "    del tempStack\n",
        "\n",
        "# Creating an empty stack\n",
        "def check_empty(stack):\n",
        "    return len(stack) == 0\n",
        "\n",
        "\n",
        "# Adding items into the stack\n",
        "def push(stack, item):\n",
        "    stack.append(item)\n",
        "    print(\"pushed item: \" + item)\n",
        "\n",
        "\n",
        "# Removing an element from the stack\n",
        "def pop(stack):\n",
        "    if (check_empty(stack)):\n",
        "        return \"stack is empty\"\n",
        "\n",
        "    return stack.pop()\n",
        "\n",
        "def peek(stack):\n",
        "\n",
        "    # Use negative indexing to display the last element of the list\n",
        "    print(stack[-1])\n"
      ]
    },
    {
      "cell_type": "markdown",
      "metadata": {
        "id": "z5FA3bY38JJT"
      },
      "source": [
        "#### 1. Create a burger stack.  \n",
        "\n",
        "The output of the stack should be in this order:\n",
        "\n",
        "- Bun\n",
        "\n",
        "- Tomato\n",
        "\n",
        "- Lettuce\n",
        "\n",
        "- Cheese\n",
        "\n",
        "- Patty\n",
        "\n",
        "- Bun"
      ]
    },
    {
      "cell_type": "code",
      "execution_count": 1,
      "metadata": {
        "id": "n6yPehQq8JJU",
        "colab": {
          "base_uri": "https://localhost:8080/"
        },
        "outputId": "b5947876-6f50-4bed-96d6-054e7a3690b7"
      },
      "outputs": [
        {
          "output_type": "stream",
          "name": "stdout",
          "text": [
            "Burger stack order:\n",
            "- Bun\n",
            "- Tomato\n",
            "- Lettuce\n",
            "- Cheese\n",
            "- Patty\n",
            "- Bun\n"
          ]
        }
      ],
      "source": [
        "# put your answer here\n",
        "burger_stack = []\n",
        "\n",
        "burger_stack.append(\"Bun\")\n",
        "burger_stack.append(\"Patty\")\n",
        "burger_stack.append(\"Cheese\")\n",
        "burger_stack.append(\"Lettuce\")\n",
        "burger_stack.append(\"Tomato\")\n",
        "burger_stack.append(\"Bun\")\n",
        "\n",
        "print(\"Burger stack order:\")\n",
        "while burger_stack:\n",
        "  element = burger_stack.pop()\n",
        "  print(\"- \" + element)"
      ]
    },
    {
      "cell_type": "markdown",
      "metadata": {
        "id": "W4XvryDA8JJU"
      },
      "source": [
        "#### 2. Reverse a string using a stack\n",
        "\n",
        "Given two stacks:\n",
        "\n",
        "**name_stack = ['E', 'L', 'I', 'Z', 'E', 'R', 'P', 'O', 'N', 'I', 'O', 'J', 'R']**\n",
        "\n",
        "**reversed_stack = []**\n",
        "\n",
        "Use your full name and pop each letter from the **name_stack** and push each element into the **reversed_stack**\n",
        "\n",
        "-----------------\n",
        "**Expected output:**\n",
        "\n",
        "print(reversed_stack)\n",
        "\n",
        "['R', 'J', 'O', 'I', 'N', 'O', 'P', 'R', 'E', 'Z', 'I', 'L', 'E']"
      ]
    },
    {
      "cell_type": "code",
      "execution_count": 2,
      "metadata": {
        "id": "BuPMzC-g8JJV",
        "colab": {
          "base_uri": "https://localhost:8080/"
        },
        "outputId": "9e162fbd-d63c-47e1-ade0-7931df42b8bf"
      },
      "outputs": [
        {
          "output_type": "stream",
          "name": "stdout",
          "text": [
            "['N', 'A', 'H', 'D']\n"
          ]
        }
      ],
      "source": [
        "# put your answer here\n",
        "name_stack = ['D','H','A','N']\n",
        "reversed_stack = []\n",
        "\n",
        "nameCount = len(name_stack)\n",
        "\n",
        "for i in range(nameCount):\n",
        "  name = name_stack.pop()\n",
        "  reversed_stack.append(name)\n",
        "\n",
        "print(reversed_stack)"
      ]
    },
    {
      "cell_type": "markdown",
      "metadata": {
        "id": "coRKfCPZ8JJV"
      },
      "source": [
        "#### 3. Remove elements using a stack\n",
        "\n",
        "Given this stack:\n",
        "\n",
        "numbers = [1,2,3,4,5,6,7,8,9,10]\n",
        "\n",
        "Using the **pop()** function, remove elements in the stack if they are an **even number**\n",
        "\n",
        "-----------------\n",
        "\n",
        "**Expected output:**\n",
        "\n",
        "print(numbers)\n",
        "\n",
        "[1,3,5,7,9]"
      ]
    },
    {
      "cell_type": "code",
      "execution_count": 18,
      "metadata": {
        "id": "zTXYampp8JJV",
        "colab": {
          "base_uri": "https://localhost:8080/"
        },
        "outputId": "5d57e395-0ea5-484b-f71e-370b880f2b89"
      },
      "outputs": [
        {
          "output_type": "stream",
          "name": "stdout",
          "text": [
            "Even numbers in the stack\n",
            "[1, 3, 5, 7, 9]\n"
          ]
        }
      ],
      "source": [
        "# put your answer here\n",
        "numbers = [1, 2, 3, 4, 5, 6, 7, 8, 9, 10]\n",
        "\n",
        "numberStackLen = len(numbers)\n",
        "\n",
        "for i in range(numberStackLen - 1, -1, -1):\n",
        "    if i % 2 != 0:\n",
        "        numbers.pop(i)\n",
        "\n",
        "print(\"Even numbers in the stack\")\n",
        "print(numbers)"
      ]
    },
    {
      "cell_type": "markdown",
      "metadata": {
        "id": "1s4LGmuT8JJW"
      },
      "source": [
        "#### 4. Inserting elements into a stack\n",
        "\n",
        "Given two stacks:\n",
        "\n",
        "my_stack = ['E', 'L', 'I', 'Z', 'E', 'R', 'P', 'O', 'N', 'I', 'O', 'J', 'R']\n",
        "\n",
        "empty_stack = []\n",
        "\n",
        "Use **pop()** to get each element from  **my_stack** and use **push()** to insert the element to **empty_stack** only if:\n",
        "\n",
        "1. The element is a **vowel**\n",
        "2. The element does not exist in **empty_stack**\n",
        "\n",
        "----------------------\n",
        "\n",
        "**Expected output:**\n",
        "\n",
        "print_stack(empty_stack)\n",
        "\n",
        "['E', 'I', 'O']"
      ]
    },
    {
      "cell_type": "code",
      "execution_count": 16,
      "metadata": {
        "id": "cGXh7yd18JJW",
        "colab": {
          "base_uri": "https://localhost:8080/"
        },
        "outputId": "6884f5b9-29f0-4a5a-bdf1-cfbce0f811c3"
      },
      "outputs": [
        {
          "output_type": "stream",
          "name": "stdout",
          "text": [
            "Vowels in stack:\n",
            "[E, I, O, ]\n"
          ]
        }
      ],
      "source": [
        "# put your answer here\n",
        "myName = ['E', 'L', 'I', 'Z', 'E', 'R', 'P', 'O', 'N', 'I', 'O', 'J', 'R']\n",
        "\n",
        "vowels = ['A','I','U','E','O']\n",
        "\n",
        "empty_stack = {}\n",
        "\n",
        "for i in myName:\n",
        "  if i in vowels:\n",
        "    if i in empty_stack:\n",
        "      empty_stack[i] += 1\n",
        "    else:\n",
        "      empty_stack[i] = 1\n",
        "\n",
        "print(\"Vowels in stack:\")\n",
        "print(\"[\", end=\"\")\n",
        "for vowels in empty_stack.keys():\n",
        "    print(vowels, end=\", \")\n",
        "print(\"]\")"
      ]
    },
    {
      "cell_type": "markdown",
      "metadata": {
        "id": "cwtpya5m8JJX"
      },
      "source": [
        "#### 5. Sort elements in a stack\n",
        "\n",
        "Given two stacks:\n",
        "\n",
        "number_stack = [3,1,2]\n",
        "\n",
        "sorted_stack = []\n",
        "\n",
        "Create a **sort()** function to pop each element from the **number_stack** and push each element into the **sorted_stack**. The elements in **sorted_stack** must be in ascending order.\n",
        "\n",
        "----------------\n",
        "\n",
        "**Hint:**\n",
        "\n",
        "| iteration | number_stack | sorted_stack |\n",
        "| --- | --- | --- |\n",
        "| 1 | [3, 1, 2] | [] |\n",
        "| 2 | [3, 1] | [2] |\n",
        "| 3 | [3, 2] | [1] |\n",
        "| 4 | [3] | [1, 2] |\n",
        "| 5 | [] | [1, 2, 3] |\n",
        "\n",
        "**Expected output:**\n",
        "\n",
        "print(sorted_stack)\n",
        "\n",
        "[1, 2, 3]"
      ]
    },
    {
      "cell_type": "code",
      "execution_count": 17,
      "metadata": {
        "id": "XrLee2zo8JJX",
        "colab": {
          "base_uri": "https://localhost:8080/"
        },
        "outputId": "10103b15-b707-4aa6-9bc4-c942a157610e"
      },
      "outputs": [
        {
          "output_type": "stream",
          "name": "stdout",
          "text": [
            "[1, 2, 3]\n"
          ]
        }
      ],
      "source": [
        "# put your answer here\n",
        "number_stack = [3, 1, 2]\n",
        "sorted_stack = []\n",
        "\n",
        "for i in number_stack:\n",
        "    if not sorted_stack:\n",
        "        sorted_stack.append(i)\n",
        "    else:\n",
        "        index = 0\n",
        "        while index < len(sorted_stack) and i > sorted_stack[index]:\n",
        "            index += 1\n",
        "        sorted_stack.insert(index, i)\n",
        "\n",
        "count = len(number_stack)\n",
        "\n",
        "if len(sorted_stack) == count:\n",
        "    print(sorted_stack)"
      ]
    }
  ],
  "metadata": {
    "kernelspec": {
      "display_name": "Python 3",
      "name": "python3"
    },
    "language_info": {
      "codemirror_mode": {
        "name": "ipython",
        "version": 3
      },
      "file_extension": ".py",
      "mimetype": "text/x-python",
      "name": "python",
      "nbconvert_exporter": "python",
      "pygments_lexer": "ipython3",
      "version": "3.11.4"
    },
    "orig_nbformat": 4,
    "colab": {
      "provenance": []
    }
  },
  "nbformat": 4,
  "nbformat_minor": 0
}
