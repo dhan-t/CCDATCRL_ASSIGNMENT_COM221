{
  "cells": [
    {
      "cell_type": "markdown",
      "metadata": {
        "id": "fCO3VeNzvGDc"
      },
      "source": [
        "# Exercise 4"
      ]
    },
    {
      "cell_type": "markdown",
      "metadata": {
        "id": "NOvVneaLHtgB"
      },
      "source": [
        "#### Pre-defined sorting algorithms"
      ]
    },
    {
      "cell_type": "code",
      "execution_count": 115,
      "metadata": {
        "id": "KG8tYTbfHtgC"
      },
      "outputs": [],
      "source": [
        "def mergeSort(array):\n",
        "    global mergeSortSteps\n",
        "    \n",
        "    if len(array) > 1:\n",
        "\n",
        "        #  r is the point where the array is divided into two subarrays\n",
        "        r = len(array)//2\n",
        "        L = array[:r]\n",
        "        M = array[r:]\n",
        "\n",
        "        # Sort the two halves\n",
        "        mergeSort(L)\n",
        "        mergeSort(M)\n",
        "\n",
        "        i = j = k = 0\n",
        "\n",
        "        # Until we reach either end of either L or M, pick larger among\n",
        "        # elements L and M and place them in the correct position at A[p..r]\n",
        "        while i < len(L) and j < len(M):\n",
        "            if L[i] < M[j]:\n",
        "                array[k] = L[i]\n",
        "                i += 1\n",
        "            else:\n",
        "                array[k] = M[j]\n",
        "                j += 1\n",
        "\n",
        "            k += 1\n",
        "        mergeSortSteps += 1\n",
        "\n",
        "        # When we run out of elements in either L or M,\n",
        "        # pick up the remaining elements and put in A[p..r]\n",
        "        while i < len(L):\n",
        "            array[k] = L[i]\n",
        "            i += 1\n",
        "            k += 1\n",
        "            mergeSortSteps += 1\n",
        "\n",
        "        while j < len(M):\n",
        "            array[k] = M[j]\n",
        "            j += 1\n",
        "            k += 1\n",
        "            mergeSortSteps += 1\n",
        "            \n",
        "# Print the array\n",
        "def printList(array):\n",
        "    for i in range(len(array)):\n",
        "        print(array[i], end=\" \")\n",
        "    print()"
      ]
    },
    {
      "cell_type": "code",
      "execution_count": 116,
      "metadata": {
        "id": "i_ZWa0QrHtgE"
      },
      "outputs": [],
      "source": [
        "def countingSort(array):\n",
        "    size = len(array)\n",
        "    output = [0] * size\n",
        "\n",
        "    # Initialize count array\n",
        "    count = [0] * 10\n",
        "\n",
        "    global countingSortSteps\n",
        "\n",
        "    # Find the index of each element of the original array in count array\n",
        "    # place the elements in output array\n",
        "\n",
        "    # Store the count of each elements in count array\n",
        "    for i in range(0, size):\n",
        "        count[array[i]] += 1\n",
        "        countingSortSteps += 1\n",
        "\n",
        "    # Store the cummulative count\n",
        "    for i in range(1, 10):\n",
        "        count[i] += count[i - 1]\n",
        "        countingSortSteps += 1\n",
        "\n",
        "    # Find the index of each element of the original array in count array\n",
        "    # place the elements in output array\n",
        "    i = size - 1\n",
        "    while i >= 0:\n",
        "        output[count[array[i]] - 1] = array[i]\n",
        "        count[array[i]] -= 1\n",
        "        i -= 1     \n",
        "        countingSortSteps += 1\n",
        "\n",
        "    # Copy the sorted elements into original array\n",
        "    for i in range(0, size):\n",
        "        array[i] = output[i]"
      ]
    },
    {
      "cell_type": "code",
      "execution_count": 117,
      "metadata": {
        "id": "3y3pPkDCHtgF"
      },
      "outputs": [],
      "source": [
        "def insertionSort(array, stepsTaken):\n",
        "\n",
        "    print(\"Current steps taken \", stepsTaken)\n",
        "\n",
        "    for step in range(1, len(array)):\n",
        "        key = array[step]\n",
        "        j = step - 1\n",
        "        stepsTaken += 1\n",
        "        \n",
        "        # Compare key with each element on the left of it until an element smaller than it is found\n",
        "        # For descending order, change key<array[j] to key>array[j].\n",
        "        while j >= 0 and key < array[j]:\n",
        "            array[j + 1] = array[j]\n",
        "            j = j - 1\n",
        "            stepsTaken += 1\n",
        "\n",
        "        # Place key at after the element just smaller than it.\n",
        "        array[j + 1] = key\n",
        "        \n",
        "        \n",
        "    print(\"Final number of steps: \", stepsTaken)"
      ]
    },
    {
      "cell_type": "code",
      "execution_count": 118,
      "metadata": {
        "id": "15dIICm2HtgG"
      },
      "outputs": [],
      "source": [
        "# Bubble sort in Python\n",
        "def bubbleSort(array, stepsTaken):\n",
        "  \n",
        "  print(\"Current number of swaps: \", stepsTaken)\n",
        "\n",
        "  # loop to access each array element\n",
        "  for i in range(len(array)):\n",
        "\n",
        "    # loop to compare array elements\n",
        "    for j in range(0, len(array) - i - 1):\n",
        "\n",
        "      # compare two adjacent elements\n",
        "      # change > to < to sort in descending order\n",
        "\n",
        "      if array[j] > array[j + 1]:\n",
        "\n",
        "        # swapping elements if elements\n",
        "        # are not in the intended order\n",
        "        temp = array[j]\n",
        "\n",
        "        array[j] = array[j+1]\n",
        "        array[j+1] = temp\n",
        "        stepsTaken += 1\n",
        "        \n",
        "  print(\"\\nTotal number of swaps: \", stepsTaken)\n"
      ]
    },
    {
      "cell_type": "markdown",
      "metadata": {
        "id": "6j9PZVsyvGDe"
      },
      "source": [
        "#### 1. Sort your **student number** in **ascending order**\n",
        "\n",
        "Example:\n",
        "\n",
        "**Input: 2022123456**\n",
        "\n",
        "**Output: 0122223456**"
      ]
    },
    {
      "cell_type": "code",
      "execution_count": 119,
      "metadata": {
        "colab": {
          "base_uri": "https://localhost:8080/"
        },
        "id": "UuNMRCm3vGDe",
        "outputId": "45c6db9f-f080-4910-c057-b34a49314412"
      },
      "outputs": [
        {
          "name": "stdout",
          "output_type": "stream",
          "text": [
            "Current student number:  [2, 0, 2, 2, 1, 0, 1, 4, 2, 4]\n",
            "Current number of swaps:  0\n",
            "\n",
            "Total number of swaps:  12\n",
            "Updated:  [0, 0, 1, 1, 2, 2, 2, 2, 4, 4]\n"
          ]
        }
      ],
      "source": [
        "# put your answer here\n",
        "studentNum = [2,0,2,2,1,0,1,4,2,4]\n",
        "print(\"Current student number: \", studentNum)\n",
        "\n",
        "bubbleSortSwaps1 = 0\n",
        "\n",
        "bubbleSort(studentNum, bubbleSortSwaps1)\n",
        "print(\"Updated: \", studentNum)"
      ]
    },
    {
      "cell_type": "markdown",
      "metadata": {
        "id": "felukBjnvGDf"
      },
      "source": [
        "#### 2. Sort the **dates** in **ascending order**.\n",
        "\n",
        "dates = [\"12-25-2023\", birthday, \"01-01-2023\"]\n",
        "\n",
        "Enter your birthday in the birthday variable."
      ]
    },
    {
      "cell_type": "code",
      "execution_count": 127,
      "metadata": {
        "id": "f8xQ3N0jvGDg"
      },
      "outputs": [
        {
          "name": "stdout",
          "output_type": "stream",
          "text": [
            "Current number of swaps:  0\n",
            "\n",
            "Total number of swaps:  2\n",
            "['09-30-2003', '01-01-2023', '12-25-2023']\n"
          ]
        }
      ],
      "source": [
        "# put your answer here\n",
        "\n",
        "# Your birthday should be in mm-dd-yyyy\n",
        "birthday = \"09-30-2003\"\n",
        "\n",
        "dates = [\"12-25-2023\" , birthday, \"01-01-2023\"]\n",
        "\n",
        "birthdayStepsTaken = 0\n",
        "\n",
        "def date_converter(date_str):\n",
        "    from datetime import datetime\n",
        "    return datetime.strptime(date_str, \"%m-%d-%Y\")\n",
        "\n",
        "date_objects = [date_converter(date) for date in dates]\n",
        "\n",
        "bubbleSort(date_objects, birthdayStepsTaken)\n",
        "sorted_dates = [date.strftime(\"%m-%d-%Y\") for date in date_objects]\n",
        "\n",
        "\n",
        "print(sorted_dates)\n",
        "\n"
      ]
    },
    {
      "cell_type": "markdown",
      "metadata": {
        "id": "IFDPeGZxvGDg"
      },
      "source": [
        "#### 3. Count the **total number of swaps** to sort the list below using **Bubble Sort**\n",
        "\n",
        "|3|2|5|1|4|\n",
        "|---|----|---|---|---|"
      ]
    },
    {
      "cell_type": "code",
      "execution_count": null,
      "metadata": {
        "colab": {
          "base_uri": "https://localhost:8080/"
        },
        "id": "b1ppwLcevGDg",
        "outputId": "dc9e0b76-3024-41ce-cdf0-d34f0de54896"
      },
      "outputs": [
        {
          "name": "stdout",
          "output_type": "stream",
          "text": [
            "Current number of swaps:  0\n",
            " \n",
            "Total number of swaps:  5\n"
          ]
        }
      ],
      "source": [
        "# put your answer here\n",
        "bubbleSwaps = [3,2,5,1,4]\n",
        "bubbleSortSwaps3 = 0\n",
        "\n",
        "bubbleSort(bubbleSwaps, bubbleSortSwaps3)"
      ]
    },
    {
      "cell_type": "markdown",
      "metadata": {
        "id": "iO2UusQWvGDi"
      },
      "source": [
        "#### 4. Count the **total number of steps** to sort the list below using **Insertion Sort**\n",
        "\n",
        "\n",
        "|6|2|5|7|4|1|8|9|3|\n",
        "|---|---|---|---|---|---|---|---|---|"
      ]
    },
    {
      "cell_type": "code",
      "execution_count": null,
      "metadata": {
        "colab": {
          "base_uri": "https://localhost:8080/"
        },
        "id": "vq1PYEjmvGDi",
        "outputId": "3cd64437-1a20-408a-cb3a-e63864ec2fba"
      },
      "outputs": [
        {
          "name": "stdout",
          "output_type": "stream",
          "text": [
            "Current steps taken  0\n",
            "Final number of steps:  24\n"
          ]
        }
      ],
      "source": [
        "# put your answer here\n",
        "num4 = [6,2,5,7,4,1,8,9,3]\n",
        "insertionSortSteps = 0\n",
        "\n",
        "insertionSort(num4, insertionSortSteps)"
      ]
    },
    {
      "cell_type": "markdown",
      "metadata": {
        "id": "jpfNCCdbvGDj"
      },
      "source": [
        "#### 5. Given the list below:\n",
        "\n",
        "\n",
        "|7|5|4|3|2|5|1|8|\n",
        "|---|---|---|---|---|---|---|---|\n",
        "\n",
        "Using **merge sort** and **counting sort**\n",
        "\n",
        "Determine which sorting algorithm is faster by counting the total number of steps for each algorithm\n"
      ]
    },
    {
      "cell_type": "code",
      "execution_count": null,
      "metadata": {
        "colab": {
          "base_uri": "https://localhost:8080/"
        },
        "id": "2YVK17cSvGDj",
        "outputId": "1853d167-eee7-48ad-b693-7db9c9325320"
      },
      "outputs": [
        {
          "name": "stdout",
          "output_type": "stream",
          "text": [
            "Steps taken by Merge Sort: 19\n",
            "Steps taken by Counting Sort: 25\n",
            "\n",
            "Merge sort is faster\n"
          ]
        }
      ],
      "source": [
        "# put your answer here\n",
        "\n",
        "num5 = [7,5,4,3,2,5,1,8]    \n",
        "\n",
        "mergeSortSteps = 0\n",
        "countingSortSteps = 0\n",
        "\n",
        "countingSort(num5)\n",
        "mergeSort(num5)\n",
        "\n",
        "print(\"Steps taken by Merge Sort:\", mergeSortSteps)\n",
        "print(\"Steps taken by Counting Sort:\", countingSortSteps)\n",
        "\n",
        "if mergeSortSteps < countingSortSteps:\n",
        "    print(\"\\nMerge sort is faster\")\n",
        "else:\n",
        "    print(\"\\nounting sort is faster\")"
      ]
    }
  ],
  "metadata": {
    "colab": {
      "provenance": []
    },
    "kernelspec": {
      "display_name": "Python 3",
      "language": "python",
      "name": "python3"
    },
    "language_info": {
      "codemirror_mode": {
        "name": "ipython",
        "version": 3
      },
      "file_extension": ".py",
      "mimetype": "text/x-python",
      "name": "python",
      "nbconvert_exporter": "python",
      "pygments_lexer": "ipython3",
      "version": "3.11.4"
    },
    "orig_nbformat": 4
  },
  "nbformat": 4,
  "nbformat_minor": 0
}
