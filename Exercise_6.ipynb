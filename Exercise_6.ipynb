{
  "cells": [
    {
      "cell_type": "markdown",
      "metadata": {
        "id": "-twO2d6eZceW"
      },
      "source": [
        "# Exercise 6"
      ]
    },
    {
      "cell_type": "markdown",
      "metadata": {
        "id": "WX9CLX8RZcej"
      },
      "source": [
        "#### Pre-defined code"
      ]
    },
    {
      "cell_type": "code",
      "execution_count": 1,
      "metadata": {
        "id": "gXAoephXZcel"
      },
      "outputs": [],
      "source": [
        "class Node:\n",
        "    def __init__(self, item):\n",
        "        self.left = None\n",
        "        self.right = None\n",
        "        self.val = item"
      ]
    },
    {
      "cell_type": "code",
      "execution_count": 2,
      "metadata": {
        "id": "lNqI3tBzZcep"
      },
      "outputs": [],
      "source": [
        "def inorder(root):\n",
        "\n",
        "    if root:\n",
        "        # Traverse left\n",
        "        inorder(root.left)\n",
        "        # Traverse root\n",
        "        print(str(root.val) + \"->\", end='')\n",
        "        # Traverse right\n",
        "        inorder(root.right)\n",
        "\n",
        "def postorder(root):\n",
        "\n",
        "    if root:\n",
        "        # Traverse left\n",
        "        postorder(root.left)\n",
        "        # Traverse right\n",
        "        postorder(root.right)\n",
        "        # Traverse root\n",
        "        print(str(root.val) + \"->\", end='')\n",
        "\n",
        "def preorder(root):\n",
        "\n",
        "    if root:\n",
        "        # Traverse root\n",
        "        print(str(root.val) + \"->\", end='')\n",
        "        # Traverse left\n",
        "        preorder(root.left)\n",
        "        # Traverse right\n",
        "        preorder(root.right)"
      ]
    },
    {
      "cell_type": "markdown",
      "metadata": {
        "id": "PH-olfuwZcer"
      },
      "source": [
        "#### 1. Construct Create your own company org chart and put yourself as CEO.\n",
        "\n",
        "Using a Tree data structure,\n",
        "\n",
        "- Assign yourself as CEO\n",
        "\n",
        "- Assign any of your classmate as HR Director\n",
        "- Assign any of your classmate as Sales Director\n",
        "\n",
        "- Assign any of your classmate as trainee. His/her boss is the HR Director\n",
        "- Assign any of your classmate as a staff and trainee. Their boss is the Sales Director\n"
      ]
    },
    {
      "cell_type": "markdown",
      "metadata": {
        "id": "AG4_Qn0yZcer"
      },
      "source": [
        "<img src=\"https://thumbs.dreamstime.com/z/cartoon-organization-chart-some-company-93778925.jpg\"/>"
      ]
    },
    {
      "cell_type": "code",
      "execution_count": 16,
      "metadata": {
        "id": "x-it-2Q7Zces"
      },
      "outputs": [],
      "source": [
        "# put your answer here\n",
        "root = Node(\"CEO Dhan\")\n",
        "\n",
        "root.left = Node(\"HR Robbie\")\n",
        "root.left.left = Node(\"TRAINEE Andrew\")\n",
        "\n",
        "root.right = Node(\"SALES Angelo\")\n",
        "root.right.left = Node(\"STAFF Jasper\")\n",
        "root.right.right = Node(\"TRAINEE Iber\")"
      ]
    },
    {
      "cell_type": "markdown",
      "metadata": {
        "id": "tsqFvLrPZcet"
      },
      "source": [
        "#### 2. Traverse the tree in in-order traversal"
      ]
    },
    {
      "cell_type": "code",
      "execution_count": 19,
      "metadata": {
        "id": "kgvVbqy1Zcet",
        "colab": {
          "base_uri": "https://localhost:8080/"
        },
        "outputId": "323fb0b0-144f-4c1a-faf0-09bbd52204cf"
      },
      "outputs": [
        {
          "output_type": "stream",
          "name": "stdout",
          "text": [
            "In-order Traversal: \n",
            "TRAINEE Andrew->HR Robbie->CEO Dhan->STAFF Jasper->SALES Angelo->TRAINEE Iber->"
          ]
        }
      ],
      "source": [
        "# put your answer here\n",
        "print(\"In-order Traversal: \")\n",
        "inorder(root)\n"
      ]
    },
    {
      "cell_type": "markdown",
      "metadata": {
        "id": "0P_Nu5zLZceu"
      },
      "source": [
        "#### 3. Traverse the tree in pre-order traversal"
      ]
    },
    {
      "cell_type": "code",
      "execution_count": 20,
      "metadata": {
        "id": "24Pc-JRvZcev",
        "colab": {
          "base_uri": "https://localhost:8080/"
        },
        "outputId": "4f6786fc-9550-4de4-97b8-77cd44abce17"
      },
      "outputs": [
        {
          "output_type": "stream",
          "name": "stdout",
          "text": [
            "Pre-order Traversal: \n",
            "CEO Dhan->HR Robbie->TRAINEE Andrew->SALES Angelo->STAFF Jasper->TRAINEE Iber->"
          ]
        }
      ],
      "source": [
        "# put your answer here\n",
        "print(\"Pre-order Traversal: \")\n",
        "preorder(root)"
      ]
    },
    {
      "cell_type": "markdown",
      "metadata": {
        "id": "_XpU8-g9Zcev"
      },
      "source": [
        "#### 4. Traverse the tree in post-order traversal"
      ]
    },
    {
      "cell_type": "code",
      "execution_count": 21,
      "metadata": {
        "id": "e3ujlL4vZcev",
        "colab": {
          "base_uri": "https://localhost:8080/"
        },
        "outputId": "2ea26eaf-10fd-4e2d-9972-496c93a97047"
      },
      "outputs": [
        {
          "output_type": "stream",
          "name": "stdout",
          "text": [
            "Post-order Traversal: \n",
            "TRAINEE Andrew->HR Robbie->STAFF Jasper->TRAINEE Iber->SALES Angelo->CEO Dhan->"
          ]
        }
      ],
      "source": [
        "# put your answer here\n",
        "print(\"Post-order Traversal: \")\n",
        "postorder(root)"
      ]
    }
  ],
  "metadata": {
    "kernelspec": {
      "display_name": "Python 3",
      "language": "python",
      "name": "python3"
    },
    "language_info": {
      "codemirror_mode": {
        "name": "ipython",
        "version": 3
      },
      "file_extension": ".py",
      "mimetype": "text/x-python",
      "name": "python",
      "nbconvert_exporter": "python",
      "pygments_lexer": "ipython3",
      "version": "3.11.4"
    },
    "orig_nbformat": 4,
    "colab": {
      "provenance": []
    }
  },
  "nbformat": 4,
  "nbformat_minor": 0
}