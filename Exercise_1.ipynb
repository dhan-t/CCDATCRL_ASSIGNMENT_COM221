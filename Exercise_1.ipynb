{
  "cells": [
    {
      "cell_type": "markdown",
      "metadata": {
        "id": "h2vFiYhGzZOg"
      },
      "source": [
        "# Exercise 1"
      ]
    },
    {
      "cell_type": "markdown",
      "source": [
        "## Class Initialization"
      ],
      "metadata": {
        "id": "sRm6kPQozcaU"
      }
    },
    {
      "cell_type": "code",
      "execution_count": 9,
      "metadata": {
        "id": "b1u4Dt9mzZOi"
      },
      "outputs": [],
      "source": [
        "class Node:\n",
        "    def __init__(self, data):\n",
        "        self.data = data\n",
        "        self.next = None"
      ]
    },
    {
      "cell_type": "code",
      "execution_count": 10,
      "metadata": {
        "id": "tigvHSaHzZOj"
      },
      "outputs": [],
      "source": [
        "class LinkedList:\n",
        "\n",
        "    def __init__(self):\n",
        "        self.head = None\n",
        "\n",
        "    def traverse(self, node):\n",
        "        while node:\n",
        "            print(node.data, end=\" -> \")\n",
        "            node = node.next"
      ]
    },
    {
      "cell_type": "code",
      "execution_count": 11,
      "metadata": {
        "id": "LIkQBioVzZOk"
      },
      "outputs": [],
      "source": [
        "class DoublyLinkedList:\n",
        "\n",
        "    def __init__(self):\n",
        "        self.head = None\n",
        "\n",
        "    def traverse(self, node):\n",
        "        while node:\n",
        "            print(node.data, end=\" -> \")\n",
        "            node = node.next"
      ]
    },
    {
      "cell_type": "code",
      "execution_count": 12,
      "metadata": {
        "id": "zlxNT5EozZOl"
      },
      "outputs": [],
      "source": [
        "class CircularLinkedList:\n",
        "\n",
        "    def __init__(self):\n",
        "        self.head = None\n",
        "\n",
        "    def traverse(self, node):\n",
        "\n",
        "        head = node\n",
        "\n",
        "        while node:\n",
        "            print(node.data, end=\" -> \")\n",
        "            node = node.next\n",
        "\n",
        "            # Break to prevent infinite loop\n",
        "            if node == head:\n",
        "                break"
      ]
    },
    {
      "cell_type": "markdown",
      "metadata": {
        "id": "O68-Q1-bzZOl"
      },
      "source": [
        "#### 1. Create a Singly Linked list\n",
        "\n",
        "- Each node should contain your name and your seatmates in your row\n",
        "- Create at least 5 nodes\n",
        "- Traverse all nodes"
      ]
    },
    {
      "cell_type": "code",
      "execution_count": 13,
      "metadata": {
        "id": "pTcx_OuPzZOl",
        "outputId": "2984d7af-18d5-41bc-ca23-e4eb6ba20435",
        "colab": {
          "base_uri": "https://localhost:8080/"
        }
      },
      "outputs": [
        {
          "output_type": "stream",
          "name": "stdout",
          "text": [
            "Iber -> robbie -> dhan -> angelo -> elizer -> "
          ]
        }
      ],
      "source": [
        "linked_list = LinkedList()\n",
        "\n",
        "# Instantiation of nodes values\n",
        "linked_list.head = Node(\"Iber\")\n",
        "node_b = Node(\"Robbie\")\n",
        "node_c = Node(\"Dhan\")\n",
        "node_d = Node(\"Angelo\")\n",
        "node_e = Node(\"Elizer\")\n",
        "\n",
        "# Instantiation of node path\n",
        "linked_list.head.next = node_b\n",
        "node_b.next = node_c\n",
        "node_c.next = node_d\n",
        "node_d.next = node_e\n",
        "node_e.next = None\n",
        "\n",
        "# Checks the value per step, serves as a visual guide\n",
        "print(\"Value of head is : \" + circular_LinkedList.head.data)\n",
        "print(\"Value of next to head is: \" + circular_LinkedList.head.next.data)\n",
        "\n",
        "print(\"~~~~~\")\n",
        "\n",
        "print(\"Value of Node B is: \" + node_b.data)\n",
        "print(\"Value of next node is: \" + node_b.next.data)\n",
        "\n",
        "print(\"~~~~~\")\n",
        "\n",
        "print(\"Value of Node C is: \" + node_c.data)\n",
        "print(\"Value of next node is: \" + node_c.next.data)\n",
        "\n",
        "print(\"~~~~~\")\n",
        "\n",
        "print(\"Value of Node D is: \" + node_d.data)\n",
        "print(\"Value of next node is: \" + node_d.next.data)\n",
        "\n",
        "print(\"~~~~~\")\n",
        "\n",
        "print(\"Value of Node E is: \" + node_e.data)\n",
        "print(\"Value of next node is: \" + node_e.next.data)\n",
        "\n",
        "# Traversing the node path\n",
        "linked_list.traverse(linked_list.head)"
      ]
    },
    {
      "cell_type": "markdown",
      "metadata": {
        "id": "IFgwbdw_zZOm"
      },
      "source": [
        "#### 2. Create a Doubly Linked list\n",
        "\n",
        "- Each node should contain your name and your seatmates in your row\n",
        "- Create at least 5 nodes\n",
        "- Traverse all nodes"
      ]
    },
    {
      "cell_type": "code",
      "execution_count": 14,
      "metadata": {
        "id": "8kQD2A_QzZOm",
        "outputId": "a3f83670-519a-4b81-f296-58e76ffdb2be",
        "colab": {
          "base_uri": "https://localhost:8080/"
        }
      },
      "outputs": [
        {
          "output_type": "stream",
          "name": "stdout",
          "text": [
            "Value of head is : Iber\n",
            "Value of next to head is: robbie\n",
            "~~~~~\n",
            "Value of Node B is: robbie\n",
            "Value of previous node is: Iber\n",
            "Value of next node is: dhan\n",
            "~~~~~\n",
            "Value of Node C is: dhan\n",
            "Value of previous node is: robbie\n",
            "Value of next node is: angelo\n",
            "~~~~~\n",
            "Value of Node D is: angelo\n",
            "Value of previous node is: dhan\n",
            "Value of next node is: elizer\n",
            "~~~~~\n",
            "Value of Node E is: elizer\n",
            "Value of previous node is: angelo\n",
            "Iber -> robbie -> dhan -> angelo -> elizer -> "
          ]
        }
      ],
      "source": [
        "# put your code here\n",
        "\n",
        "doubly_LinkedList = DoublyLinkedList()\n",
        "\n",
        "# Instantiation of nodes values\n",
        "doubly_LinkedList.head = Node(\"Iber\")\n",
        "node_b = Node(\"Robbie\")\n",
        "node_c = Node(\"Dhan\")\n",
        "node_d = Node(\"Angelo\")\n",
        "node_e = Node(\"Elizer\")\n",
        "\n",
        "# Instantiation of node path moving forward\n",
        "doubly_LinkedList.head.next = node_b\n",
        "node_b.next = node_c\n",
        "node_c.next = node_d\n",
        "node_d.next = node_e\n",
        "node_e.next = None\n",
        "\n",
        "# Instantiation of node path moving backwards\n",
        "doubly_LinkedList.head.prev = None\n",
        "node_b.prev = doubly_LinkedList.head\n",
        "node_c.prev = node_b\n",
        "node_d.prev = node_c\n",
        "node_e.prev = node_d\n",
        "\n",
        "# Checks the value per step, serves as a visual guide\n",
        "print(\"Value of head is : \" + doubly_LinkedList.head.data)\n",
        "print(\"Value of next to head is: \" + doubly_LinkedList.head.next.data)\n",
        "\n",
        "print(\"~~~~~\")\n",
        "\n",
        "print(\"Value of Node B is: \" + node_b.data)\n",
        "print(\"Value of previous node is: \" + node_b.prev.data)\n",
        "print(\"Value of next node is: \" + node_b.next.data)\n",
        "\n",
        "print(\"~~~~~\")\n",
        "\n",
        "print(\"Value of Node C is: \" + node_c.data)\n",
        "print(\"Value of previous node is: \" + node_c.prev.data)\n",
        "print(\"Value of next node is: \" + node_c.next.data)\n",
        "\n",
        "print(\"~~~~~\")\n",
        "\n",
        "print(\"Value of Node D is: \" + node_d.data)\n",
        "print(\"Value of previous node is: \" + node_d.prev.data)\n",
        "print(\"Value of next node is: \" + node_d.next.data)\n",
        "\n",
        "print(\"~~~~~\")\n",
        "\n",
        "print(\"Value of Node E is: \" + node_e.data)\n",
        "print(\"Value of previous node is: \" + node_e.prev.data)\n",
        "\n",
        "# Traversing the node path\n",
        "doubly_LinkedList.traverse(doubly_LinkedList.head)"
      ]
    },
    {
      "cell_type": "markdown",
      "metadata": {
        "id": "rtApbsCjzZOm"
      },
      "source": [
        "#### 3. Create a Circular Linked list\n",
        "\n",
        "- Each node should contain your name and your seatmates in your row\n",
        "- Create at least 5 nodes\n",
        "- Traverse all nodes"
      ]
    },
    {
      "cell_type": "code",
      "execution_count": 19,
      "metadata": {
        "id": "Gp1Oiq0jzZOn",
        "colab": {
          "base_uri": "https://localhost:8080/"
        },
        "outputId": "057333f2-fce2-4336-8cae-0908eaa7e3a5"
      },
      "outputs": [
        {
          "output_type": "stream",
          "name": "stdout",
          "text": [
            "Value of head is : Iber\n",
            "Value of next to head is: Robbie\n",
            "~~~~~\n",
            "Value of Node B is: Robbie\n",
            "Value of next node is: Dhan\n",
            "~~~~~\n",
            "Value of Node C is: Dhan\n",
            "Value of next node is: Angelo\n",
            "~~~~~\n",
            "Value of Node D is: Angelo\n",
            "Value of next node is: Elizer\n",
            "~~~~~\n",
            "Value of Node E is: Elizer\n",
            "Value of next node is: Iber\n",
            "Iber -> Robbie -> Dhan -> Angelo -> Elizer -> "
          ]
        }
      ],
      "source": [
        "# put your code here\n",
        "\n",
        "circular_LinkedList = CircularLinkedList()\n",
        "\n",
        "# Instantiation of nodes values\n",
        "circular_LinkedList.head = Node(\"Iber\")\n",
        "node_b = Node(\"Robbie\")\n",
        "node_c = Node(\"Dhan\")\n",
        "node_d = Node(\"Angelo\")\n",
        "node_e = Node(\"Elizer\")\n",
        "\n",
        "# Instantiation of node path\n",
        "circular_LinkedList.head.next = node_b\n",
        "node_b.next = node_c\n",
        "node_c.next = node_d\n",
        "node_d.next = node_e\n",
        "node_e.next = circular_LinkedList.head\n",
        "\n",
        "# Checks the value per step, serves as a visual guide\n",
        "print(\"Value of head is : \" + circular_LinkedList.head.data)\n",
        "print(\"Value of next to head is: \" + circular_LinkedList.head.next.data)\n",
        "\n",
        "print(\"~~~~~\")\n",
        "\n",
        "print(\"Value of Node B is: \" + node_b.data)\n",
        "print(\"Value of next node is: \" + node_b.next.data)\n",
        "\n",
        "print(\"~~~~~\")\n",
        "\n",
        "print(\"Value of Node C is: \" + node_c.data)\n",
        "print(\"Value of next node is: \" + node_c.next.data)\n",
        "\n",
        "print(\"~~~~~\")\n",
        "\n",
        "print(\"Value of Node D is: \" + node_d.data)\n",
        "print(\"Value of next node is: \" + node_d.next.data)\n",
        "\n",
        "print(\"~~~~~\")\n",
        "\n",
        "print(\"Value of Node E is: \" + node_e.data)\n",
        "print(\"Value of next node is: \" + node_e.next.data)\n",
        "\n",
        "# Traversing the node path\n",
        "circular_LinkedList.traverse(circular_LinkedList.head)"
      ]
    }
  ],
  "metadata": {
    "kernelspec": {
      "display_name": "Python 3",
      "language": "python",
      "name": "python3"
    },
    "language_info": {
      "name": "python",
      "version": "3.11.4"
    },
    "orig_nbformat": 4,
    "colab": {
      "provenance": []
    }
  },
  "nbformat": 4,
  "nbformat_minor": 0
}