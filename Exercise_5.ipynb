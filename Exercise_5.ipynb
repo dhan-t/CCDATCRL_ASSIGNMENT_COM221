{
  "cells": [
    {
      "cell_type": "markdown",
      "metadata": {
        "id": "XyDtEDKmEKc_"
      },
      "source": [
        "# Exercise 5"
      ]
    },
    {
      "cell_type": "markdown",
      "metadata": {
        "id": "IoHC9o-cEKdE"
      },
      "source": [
        "#### 1. Create a dictionary of your 10 favorite songs."
      ]
    },
    {
      "cell_type": "markdown",
      "metadata": {
        "id": "9WmUQtuvEKdF"
      },
      "source": [
        "Example:\n",
        "\n",
        "|KEY|VALUE|\n",
        "|---|---|\n",
        "|001|My Love|\n",
        "|002|Like a rose|"
      ]
    },
    {
      "cell_type": "code",
      "execution_count": 3,
      "metadata": {
        "id": "QmaxGGl6EKdG",
        "colab": {
          "base_uri": "https://localhost:8080/"
        },
        "outputId": "dbf620bf-68e5-4117-d260-e6f350253b19"
      },
      "outputs": [
        {
          "output_type": "stream",
          "name": "stdout",
          "text": [
            "{'001': 'Salamat', '002': 'Ilaw', '003': 'ILY', '004': 'Just the way you are', '005': 'A lot', '006': 'Fancy', '007': 'Runaway baby', '008': \"God's Plan\", '009': 'Jujutsu Kaisen OP', '010': 'Magic Ways'}\n"
          ]
        }
      ],
      "source": [
        "# put your answer here\n",
        "myFavouriteSongs = {\n",
        "    \"001\" : \"Salamat\",\n",
        "    \"002\" : \"Ilaw\",\n",
        "    \"003\" : \"ILY\",\n",
        "    \"004\" : \"Just the way you are\",\n",
        "    \"005\" : \"A lot\",\n",
        "    \"006\" : \"Fancy\",\n",
        "    \"007\" : \"Runaway baby\",\n",
        "    \"008\" : \"God's Plan\",\n",
        "    \"009\" : \"Jujutsu Kaisen OP\",\n",
        "    \"010\" : \"Magic Ways\",\n",
        "}\n",
        "\n",
        "print(myFavouriteSongs)"
      ]
    },
    {
      "cell_type": "markdown",
      "metadata": {
        "id": "mtNZeTfcEKdI"
      },
      "source": [
        "#### 2. Loop through the dictionary by its **key** and **value**"
      ]
    },
    {
      "cell_type": "code",
      "execution_count": 4,
      "metadata": {
        "id": "TwCkClJsEKdI",
        "colab": {
          "base_uri": "https://localhost:8080/"
        },
        "outputId": "7906756d-3292-490d-e927-1774eed304b4"
      },
      "outputs": [
        {
          "output_type": "stream",
          "name": "stdout",
          "text": [
            "001 Salamat\n",
            "002 Ilaw\n",
            "003 ILY\n",
            "004 Just the way you are\n",
            "005 A lot\n",
            "006 Fancy\n",
            "007 Runaway baby\n",
            "008 God's Plan\n",
            "009 Jujutsu Kaisen OP\n",
            "010 Magic Ways\n"
          ]
        }
      ],
      "source": [
        "# put your answer here\n",
        "\n",
        "for i, j in myFavouriteSongs.items():\n",
        "  print(i,j)"
      ]
    },
    {
      "cell_type": "markdown",
      "metadata": {
        "id": "a9279kG4EKdJ"
      },
      "source": [
        "#### 3. Add one additional song"
      ]
    },
    {
      "cell_type": "code",
      "execution_count": 5,
      "metadata": {
        "id": "8uSXyOcjEKdK",
        "colab": {
          "base_uri": "https://localhost:8080/"
        },
        "outputId": "21b797c3-38d9-4703-e0d6-3a47e8661498"
      },
      "outputs": [
        {
          "output_type": "stream",
          "name": "stdout",
          "text": [
            "001 Salamat\n",
            "002 Ilaw\n",
            "003 ILY\n",
            "004 Just the way you are\n",
            "005 A lot\n",
            "006 Fancy\n",
            "007 Runaway baby\n",
            "008 God's Plan\n",
            "009 Jujutsu Kaisen OP\n",
            "010 Magic Ways\n",
            "011 Rap God\n"
          ]
        }
      ],
      "source": [
        "# put your answer here\n",
        "\n",
        "myFavouriteSongs[\"011\"] = \"Rap God\"\n",
        "\n",
        "for i, j in myFavouriteSongs.items():\n",
        "  print(i,j)"
      ]
    },
    {
      "cell_type": "markdown",
      "metadata": {
        "id": "UnJXcUWLEKdL"
      },
      "source": [
        "#### 4. Remove one song"
      ]
    },
    {
      "cell_type": "code",
      "execution_count": 6,
      "metadata": {
        "id": "Bi9mDPKTEKdM",
        "colab": {
          "base_uri": "https://localhost:8080/"
        },
        "outputId": "9ed392e4-a1b0-4252-fafe-456b4131125a"
      },
      "outputs": [
        {
          "output_type": "stream",
          "name": "stdout",
          "text": [
            "001 Salamat\n",
            "002 Ilaw\n",
            "003 ILY\n",
            "004 Just the way you are\n",
            "005 A lot\n",
            "006 Fancy\n",
            "007 Runaway baby\n",
            "009 Jujutsu Kaisen OP\n",
            "010 Magic Ways\n",
            "011 Rap God\n"
          ]
        }
      ],
      "source": [
        "# put your answer here\n",
        "\n",
        "myFavouriteSongs.pop(\"008\")\n",
        "\n",
        "for i, j in myFavouriteSongs.items():\n",
        "  print(i,j)"
      ]
    },
    {
      "cell_type": "markdown",
      "metadata": {
        "id": "JXQpyHEoEKdN"
      },
      "source": [
        "#### 5. Create a nested dictionary of your 10 favorite songs with 5 genres. Display all of the items of the nested dictionary\n",
        "\n",
        "- Each nested dictionary's key should be the genre of the song\n",
        "- Put each song in their respective genre"
      ]
    },
    {
      "cell_type": "markdown",
      "metadata": {
        "id": "f3OHHmf2EKdO"
      },
      "source": [
        "Example:\n",
        "\n",
        "\n",
        "|KEY|VALUE|\n",
        "|---|---|\n",
        "|Pop|{001, Baby}|\n",
        "|Rock|{001, Enter Sandman}|"
      ]
    },
    {
      "cell_type": "code",
      "execution_count": 7,
      "metadata": {
        "id": "aPb1nIzHEKdO",
        "colab": {
          "base_uri": "https://localhost:8080/"
        },
        "outputId": "8fbaf03f-b4be-4e93-f602-34e58481fc75"
      },
      "outputs": [
        {
          "output_type": "stream",
          "name": "stdout",
          "text": [
            "Phonk {'001': 'Surprise', '002': 'Live Another Day'}\n",
            "Pop {'001': 'Agora Hills', '002': 'Kiss Me More'}\n",
            "Kpop {'001': 'Super Shy', '002': 'Fancy'}\n",
            "Jpop {'001': 'Magic Ways', '002': 'Plastic Love'}\n",
            "Classical {'001': 'Requiem', '002': 'Claire De Lune'}\n"
          ]
        }
      ],
      "source": [
        "# put your answer here\n",
        "\n",
        "myFaveGenres = {\n",
        "    \"Phonk\" : {\n",
        "        \"001\" : \"Surprise\",\n",
        "        \"002\" : \"Live Another Day\"\n",
        "    },\n",
        "    \"Pop\" : {\n",
        "        \"001\" : \"Agora Hills\",\n",
        "        \"002\" : \"Kiss Me More\"\n",
        "    },\n",
        "    \"Kpop\" : {\n",
        "        \"001\" : \"Super Shy\",\n",
        "        \"002\" : \"Fancy\",\n",
        "    },\n",
        "    \"Jpop\" : {\n",
        "        \"001\" : \"Magic Ways\",\n",
        "        \"002\" : \"Plastic Love\",\n",
        "    },\n",
        "    \"Classical\" : {\n",
        "        \"001\" : \"Requiem\",\n",
        "        \"002\" : \"Claire De Lune\",\n",
        "    }\n",
        "}\n",
        "\n",
        "for i, j in myFaveGenres.items():\n",
        "  print(i,j)"
      ]
    },
    {
      "cell_type": "markdown",
      "metadata": {
        "id": "YOYQTYGtEKdP"
      },
      "source": [
        "#### 6. Print the first song of the first genre"
      ]
    },
    {
      "cell_type": "code",
      "execution_count": 8,
      "metadata": {
        "id": "m-uugTDFEKdP",
        "colab": {
          "base_uri": "https://localhost:8080/"
        },
        "outputId": "ab27d693-07ee-40dc-f2d1-73b0edf6271d"
      },
      "outputs": [
        {
          "output_type": "stream",
          "name": "stdout",
          "text": [
            "Surprise\n"
          ]
        }
      ],
      "source": [
        "# put your answer here\n",
        "\n",
        "print(myFaveGenres[\"Phonk\"] [\"001\"])"
      ]
    },
    {
      "cell_type": "markdown",
      "source": [],
      "metadata": {
        "id": "HZb1kL5BW7rt"
      }
    },
    {
      "cell_type": "markdown",
      "metadata": {
        "id": "quREfcjjEKdQ"
      },
      "source": [
        "#### 7. Print the first song of the last genre"
      ]
    },
    {
      "cell_type": "code",
      "execution_count": 9,
      "metadata": {
        "id": "hZ8l_UvAEKdQ",
        "colab": {
          "base_uri": "https://localhost:8080/"
        },
        "outputId": "9facd10f-5e52-4c57-a445-6efd12478770"
      },
      "outputs": [
        {
          "output_type": "stream",
          "name": "stdout",
          "text": [
            "Requiem\n"
          ]
        }
      ],
      "source": [
        "# put your answer here\n",
        "\n",
        "print(myFaveGenres[\"Classical\"] [\"001\"])"
      ]
    }
  ],
  "metadata": {
    "kernelspec": {
      "display_name": "Python 3",
      "language": "python",
      "name": "python3"
    },
    "language_info": {
      "codemirror_mode": {
        "name": "ipython",
        "version": 3
      },
      "file_extension": ".py",
      "mimetype": "text/x-python",
      "name": "python",
      "nbconvert_exporter": "python",
      "pygments_lexer": "ipython3",
      "version": "3.11.4"
    },
    "orig_nbformat": 4,
    "colab": {
      "provenance": []
    }
  },
  "nbformat": 4,
  "nbformat_minor": 0
}